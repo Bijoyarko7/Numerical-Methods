{
 "cells": [
  {
   "cell_type": "code",
   "execution_count": null,
   "id": "09ca5eaf-4503-443c-a729-dd5856a567eb",
   "metadata": {},
   "outputs": [],
   "source": [
    "% Function\n",
    "function y = f1(x)\n",
    "    if x == 0\n",
    "        error('x cannot be zero due to negative power in sine term')\n",
    "    end\n",
    "    y = x^4 * exp(-(x^2)/4) * sin(8*x^(-3));\n",
    "end"
   ]
  },
  {
   "cell_type": "code",
   "execution_count": null,
   "id": "2f8e8293-1e11-4712-8aa0-37b43b264b45",
   "metadata": {},
   "outputs": [],
   "source": [
    "%Problem_1\n",
    "\n",
    "h_values = zeros(16,1);    \n",
    "er_one = zeros(16,1);       \n",
    "er_two = zeros(16,1);\n",
    "er_st = zeros(16,1);\n",
    "\n",
    "for n = 1:16\n",
    "    h_values(n) = 10^(-n);\n",
    "    er_one(n) = abs((f1(1+h_values(n))-f1(1))/h_values(n) - exp(-1/4)*(3.5*sin(8)+24*cos(8)));\n",
    "    er_two(n) = abs((f1(1+h_values(n))-f1(1-h_values(n)))/2*h_values(n) - exp(-1/4)*(3.5*sin(8)+24*cos(8)));\n",
    "    er_st(n) = abs((-f1(1+2*h_values(n))+8*f1(1+h_values(n))-8*f1(1-h_values(n))+f1(1-2*h_values(n)))/12*h_values(n) - exp(-1/4)*(3.5*sin(8)+24*cos(8)));\n",
    "end\n",
    "\n"
   ]
  },
  {
   "cell_type": "code",
   "execution_count": null,
   "id": "e0311d1c-7650-4c40-ad95-35c8167c9704",
   "metadata": {},
   "outputs": [],
   "source": []
  }
 ],
 "metadata": {
  "kernelspec": {
   "display_name": "Matlab (Connection)",
   "language": "matlab",
   "name": "matlab_connect"
  },
  "language_info": {
   "codemirror_mode": "octave",
   "file_extension": ".m",
   "help_links": [
    {
     "text": "MetaKernel Magics",
     "url": "https://metakernel.readthedocs.io/en/latest/source/README.html"
    }
   ],
   "mimetype": "text/x-octave",
   "name": "matlab",
   "version": "0.17.1"
  }
 },
 "nbformat": 4,
 "nbformat_minor": 5
}
